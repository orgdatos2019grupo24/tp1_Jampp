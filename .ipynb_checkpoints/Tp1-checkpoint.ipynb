{
 "cells": [
  {
   "cell_type": "code",
   "execution_count": 3,
   "metadata": {},
   "outputs": [],
   "source": [
    "import pandas as pd \n",
    "import numpy as np \n",
    "import matplotlib.pyplot as plt\n",
    "import seaborn as sns"
   ]
  },
  {
   "cell_type": "code",
   "execution_count": 6,
   "metadata": {},
   "outputs": [],
   "source": [
    "#import findspark\n",
    "#findspark.init()\n",
    "#import pyspark\n",
    "#import random\n",
    "#sc = pyspark.SparkContext()\n",
    "\n",
    "df_clicks= pd.read_csv('clicks.csv'); \n",
    "df_events= pd.read_csv('events.csv',low_memory=False); \n",
    "df_installs= pd.read_csv('installs.csv'); \n",
    "df_auctions= pd.read_csv('auctions.csv'); "
   ]
  },
  {
   "cell_type": "code",
   "execution_count": 7,
   "metadata": {},
   "outputs": [
    {
     "data": {
      "text/plain": [
       "7     947\n",
       "9     731\n",
       "10    389\n",
       "16    362\n",
       "8     328\n",
       "2     174\n",
       "29     97\n",
       "20     95\n",
       "6      35\n",
       "1      34\n",
       "26     28\n",
       "34     28\n",
       "15     20\n",
       "0      18\n",
       "3      17\n",
       "28     17\n",
       "12     15\n",
       "18     14\n",
       "24     13\n",
       "17     13\n",
       "14     13\n",
       "21      7\n",
       "5       3\n",
       "13      3\n",
       "33      2\n",
       "30      2\n",
       "19      2\n",
       "32      2\n",
       "36      1\n",
       "4       1\n",
       "23      1\n",
       "Name: application_id, dtype: int64"
      ]
     },
     "execution_count": 7,
     "metadata": {},
     "output_type": "execute_result"
    }
   ],
   "source": [
    "df_installs.application_id.value_counts()"
   ]
  },
  {
   "cell_type": "code",
   "execution_count": 96,
   "metadata": {},
   "outputs": [
    {
     "data": {
      "image/png": "[encoded data removed]",
      "text/plain": [
       "<Figure size 720x360 with 1 Axes>"
      ]
     },
     "metadata": {
      "needs_background": "light"
     },
     "output_type": "display_data"
    }
   ],
   "source": [
    "# Plotting a bar graph of the number of stores in each city, for the first ten cities listed\n",
    "# in the column 'City'\n",
    "app_count  = df_installs['application_id'].value_counts(sort=True)\n",
    "app_count = app_count[:10,]\n",
    "plt.figure(figsize=(10,5))\n",
    "sns.barplot(app_count.index, app_count.values, alpha=0.8)\n",
    "plt.title('Top 10 de aplicaciones')\n",
    "plt.ylabel('Cantidad', fontsize=12)\n",
    "plt.xlabel('ID Aplicacion', fontsize=12)\n",
    "plt.show()"
   ]
  },
  {
   "cell_type": "code",
   "execution_count": 37,
   "metadata": {},
   "outputs": [],
   "source": [
    "df_events.date = pd.to_datetime(df_events.date)"
   ]
  },
  {
   "cell_type": "code",
   "execution_count": 27,
   "metadata": {},
   "outputs": [],
   "source": [
    "df_eventos_por_dia = df_events.date\\\n",
    "       .dt.floor('d')\\\n",
    "       .value_counts()\\\n",
    "       .rename_axis('dia')\\\n",
    "       .reset_index(name='cantidad')\\\n",
    "       .sort_values(by='dia', ascending=True)"
   ]
  },
  {
   "cell_type": "code",
   "execution_count": 28,
   "metadata": {},
   "outputs": [
    {
     "data": {
      "text/html": [
       "<div>\n",
       "<style scoped>\n",
       "    .dataframe tbody tr th:only-of-type {\n",
       "        vertical-align: middle;\n",
       "    }\n",
       "\n",
       "    .dataframe tbody tr th {\n",
       "        vertical-align: top;\n",
       "    }\n",
       "\n",
       "    .dataframe thead th {\n",
       "        text-align: right;\n",
       "    }\n",
       "</style>\n",
       "<table border=\"1\" class=\"dataframe\">\n",
       "  <thead>\n",
       "    <tr style=\"text-align: right;\">\n",
       "      <th></th>\n",
       "      <th>dia</th>\n",
       "      <th>cantidad</th>\n",
       "    </tr>\n",
       "  </thead>\n",
       "  <tbody>\n",
       "    <tr>\n",
       "      <th>8</th>\n",
       "      <td>2019-03-05</td>\n",
       "      <td>240549</td>\n",
       "    </tr>\n",
       "    <tr>\n",
       "      <th>7</th>\n",
       "      <td>2019-03-06</td>\n",
       "      <td>253505</td>\n",
       "    </tr>\n",
       "    <tr>\n",
       "      <th>6</th>\n",
       "      <td>2019-03-07</td>\n",
       "      <td>253706</td>\n",
       "    </tr>\n",
       "    <tr>\n",
       "      <th>4</th>\n",
       "      <td>2019-03-08</td>\n",
       "      <td>285535</td>\n",
       "    </tr>\n",
       "    <tr>\n",
       "      <th>3</th>\n",
       "      <td>2019-03-09</td>\n",
       "      <td>286221</td>\n",
       "    </tr>\n",
       "    <tr>\n",
       "      <th>2</th>\n",
       "      <td>2019-03-10</td>\n",
       "      <td>293091</td>\n",
       "    </tr>\n",
       "    <tr>\n",
       "      <th>5</th>\n",
       "      <td>2019-03-11</td>\n",
       "      <td>268884</td>\n",
       "    </tr>\n",
       "    <tr>\n",
       "      <th>1</th>\n",
       "      <td>2019-03-12</td>\n",
       "      <td>296665</td>\n",
       "    </tr>\n",
       "    <tr>\n",
       "      <th>0</th>\n",
       "      <td>2019-03-13</td>\n",
       "      <td>316267</td>\n",
       "    </tr>\n",
       "  </tbody>\n",
       "</table>\n",
       "</div>"
      ],
      "text/plain": [
       "         dia  cantidad\n",
       "8 2019-03-05    240549\n",
       "7 2019-03-06    253505\n",
       "6 2019-03-07    253706\n",
       "4 2019-03-08    285535\n",
       "3 2019-03-09    286221\n",
       "2 2019-03-10    293091\n",
       "5 2019-03-11    268884\n",
       "1 2019-03-12    296665\n",
       "0 2019-03-13    316267"
      ]
     },
     "execution_count": 28,
     "metadata": {},
     "output_type": "execute_result"
    }
   ],
   "source": [
    "df_eventos_por_dia"
   ]
  },
  {
   "cell_type": "code",
   "execution_count": 196,
   "metadata": {},
   "outputs": [
    {
     "data": {
      "image/png": "[encoded data removed]",
      "text/plain": [
       "<Figure size 432x288 with 1 Axes>"
      ]
     },
     "metadata": {
      "needs_background": "light"
     },
     "output_type": "display_data"
    }
   ],
   "source": [
    "plt.bar(np.arange(len(df_eventos_por_dia)), df_eventos_por_dia.cantidad, align='center', alpha=0.5)\n",
    "plt.xticks(np.arange(len(df_eventos_por_dia)), df_eventos_por_dia.dia.dt.date,rotation=90)\n",
    "plt.ylabel('Eventos')\n",
    "plt.title('Cantidad de eventos por dia')\n",
    " \n",
    "plt.show()"
   ]
  },
  {
   "cell_type": "code",
   "execution_count": 125,
   "metadata": {},
   "outputs": [],
   "source": [
    "df_installs.created = pd.to_datetime(df_installs.created)\n",
    "df_installs['hour'] = df_installs.created.dt.hour\n",
    "df_installs['hour'] = df_installs['hour'].replace(0,24)"
   ]
  },
  {
   "cell_type": "code",
   "execution_count": 126,
   "metadata": {},
   "outputs": [],
   "source": [
    "df_installs_por_dia = df_installs.created\\\n",
    "       .dt.floor('d')\\\n",
    "       .value_counts()\\\n",
    "       .rename_axis('dia')\\\n",
    "       .reset_index(name='cantidad')\\\n",
    "       .sort_values(by='dia', ascending=True)"
   ]
  },
  {
   "cell_type": "code",
   "execution_count": 127,
   "metadata": {},
   "outputs": [
    {
     "data": {
      "text/html": [
       "<div>\n",
       "<style scoped>\n",
       "    .dataframe tbody tr th:only-of-type {\n",
       "        vertical-align: middle;\n",
       "    }\n",
       "\n",
       "    .dataframe tbody tr th {\n",
       "        vertical-align: top;\n",
       "    }\n",
       "\n",
       "    .dataframe thead th {\n",
       "        text-align: right;\n",
       "    }\n",
       "</style>\n",
       "<table border=\"1\" class=\"dataframe\">\n",
       "  <thead>\n",
       "    <tr style=\"text-align: right;\">\n",
       "      <th></th>\n",
       "      <th>dia</th>\n",
       "      <th>cantidad</th>\n",
       "    </tr>\n",
       "  </thead>\n",
       "  <tbody>\n",
       "    <tr>\n",
       "      <th>7</th>\n",
       "      <td>2019-03-05</td>\n",
       "      <td>337</td>\n",
       "    </tr>\n",
       "    <tr>\n",
       "      <th>8</th>\n",
       "      <td>2019-03-06</td>\n",
       "      <td>325</td>\n",
       "    </tr>\n",
       "    <tr>\n",
       "      <th>2</th>\n",
       "      <td>2019-03-07</td>\n",
       "      <td>393</td>\n",
       "    </tr>\n",
       "    <tr>\n",
       "      <th>5</th>\n",
       "      <td>2019-03-08</td>\n",
       "      <td>366</td>\n",
       "    </tr>\n",
       "    <tr>\n",
       "      <th>4</th>\n",
       "      <td>2019-03-09</td>\n",
       "      <td>368</td>\n",
       "    </tr>\n",
       "    <tr>\n",
       "      <th>6</th>\n",
       "      <td>2019-03-10</td>\n",
       "      <td>351</td>\n",
       "    </tr>\n",
       "    <tr>\n",
       "      <th>3</th>\n",
       "      <td>2019-03-11</td>\n",
       "      <td>377</td>\n",
       "    </tr>\n",
       "    <tr>\n",
       "      <th>0</th>\n",
       "      <td>2019-03-12</td>\n",
       "      <td>472</td>\n",
       "    </tr>\n",
       "    <tr>\n",
       "      <th>1</th>\n",
       "      <td>2019-03-13</td>\n",
       "      <td>423</td>\n",
       "    </tr>\n",
       "  </tbody>\n",
       "</table>\n",
       "</div>"
      ],
      "text/plain": [
       "         dia  cantidad\n",
       "7 2019-03-05       337\n",
       "8 2019-03-06       325\n",
       "2 2019-03-07       393\n",
       "5 2019-03-08       366\n",
       "4 2019-03-09       368\n",
       "6 2019-03-10       351\n",
       "3 2019-03-11       377\n",
       "0 2019-03-12       472\n",
       "1 2019-03-13       423"
      ]
     },
     "execution_count": 127,
     "metadata": {},
     "output_type": "execute_result"
    }
   ],
   "source": [
    "df_installs_por_dia\n"
   ]
  },
  {
   "cell_type": "code",
   "execution_count": 195,
   "metadata": {},
   "outputs": [
    {
     "data": {
      "image/png": "[encoded data removed]",
      "text/plain": [
       "<Figure size 432x288 with 1 Axes>"
      ]
     },
     "metadata": {
      "needs_background": "light"
     },
     "output_type": "display_data"
    }
   ],
   "source": [
    "plt.bar(np.arange(len(df_installs_por_dia)), df_installs_por_dia.cantidad, align='center', alpha=0.5)\n",
    "plt.xticks(np.arange(len(df_installs_por_dia)), df_installs_por_dia.dia.dt.date,rotation=90)\n",
    "plt.ylabel('Instalaciones')\n",
    "plt.title('Cantidad de instalaciones por dia')\n",
    " \n",
    "plt.show()"
   ]
  },
  {
   "cell_type": "code",
   "execution_count": 128,
   "metadata": {},
   "outputs": [],
   "source": [
    "df_installs_por_hora = df_installs.hour\\\n",
    "       .value_counts()\\\n",
    "       .rename_axis('hora')\\\n",
    "       .reset_index(name='cantidad')\\\n",
    "       .sort_values(by='hora', ascending=True)"
   ]
  },
  {
   "cell_type": "code",
   "execution_count": 129,
   "metadata": {},
   "outputs": [
    {
     "data": {
      "image/png": "[encoded data removed]",
      "text/plain": [
       "<Figure size 432x288 with 1 Axes>"
      ]
     },
     "metadata": {
      "needs_background": "light"
     },
     "output_type": "display_data"
    }
   ],
   "source": [
    "plt.bar(np.arange(len(df_installs_por_hora)), df_installs_por_hora.cantidad, align='center', alpha=0.5)\n",
    "plt.xticks(np.arange(len(df_installs_por_hora)), df_installs_por_hora.hora,rotation=90)\n",
    "plt.ylabel('Instalaciones')\n",
    "plt.title('Cantidad de instalaciones por hora')\n",
    " \n",
    "plt.show()"
   ]
  },
  {
   "cell_type": "code",
   "execution_count": 131,
   "metadata": {},
   "outputs": [],
   "source": [
    "df_clicks.created = pd.to_datetime(df_clicks.created)"
   ]
  },
  {
   "cell_type": "code",
   "execution_count": 177,
   "metadata": {},
   "outputs": [],
   "source": [
    "df_clicks_por_dia = df_clicks.created\\\n",
    "       .dt.floor('d')\\\n",
    "       .value_counts()\\\n",
    "       .rename_axis('dia')\\\n",
    "       .reset_index(name='cantidad')\\\n",
    "       .sort_values(by='dia', ascending=True)"
   ]
  },
  {
   "cell_type": "code",
   "execution_count": 178,
   "metadata": {},
   "outputs": [
    {
     "data": {
      "text/html": [
       "<div>\n",
       "<style scoped>\n",
       "    .dataframe tbody tr th:only-of-type {\n",
       "        vertical-align: middle;\n",
       "    }\n",
       "\n",
       "    .dataframe tbody tr th {\n",
       "        vertical-align: top;\n",
       "    }\n",
       "\n",
       "    .dataframe thead th {\n",
       "        text-align: right;\n",
       "    }\n",
       "</style>\n",
       "<table border=\"1\" class=\"dataframe\">\n",
       "  <thead>\n",
       "    <tr style=\"text-align: right;\">\n",
       "      <th></th>\n",
       "      <th>dia</th>\n",
       "      <th>cantidad</th>\n",
       "    </tr>\n",
       "  </thead>\n",
       "  <tbody>\n",
       "    <tr>\n",
       "      <th>7</th>\n",
       "      <td>2019-03-05 00:00:00+00:00</td>\n",
       "      <td>31</td>\n",
       "    </tr>\n",
       "    <tr>\n",
       "      <th>8</th>\n",
       "      <td>2019-03-06 00:00:00+00:00</td>\n",
       "      <td>14</td>\n",
       "    </tr>\n",
       "    <tr>\n",
       "      <th>5</th>\n",
       "      <td>2019-03-07 00:00:00+00:00</td>\n",
       "      <td>2989</td>\n",
       "    </tr>\n",
       "    <tr>\n",
       "      <th>6</th>\n",
       "      <td>2019-03-08 00:00:00+00:00</td>\n",
       "      <td>2839</td>\n",
       "    </tr>\n",
       "    <tr>\n",
       "      <th>4</th>\n",
       "      <td>2019-03-09 00:00:00+00:00</td>\n",
       "      <td>3283</td>\n",
       "    </tr>\n",
       "    <tr>\n",
       "      <th>2</th>\n",
       "      <td>2019-03-10 00:00:00+00:00</td>\n",
       "      <td>3966</td>\n",
       "    </tr>\n",
       "    <tr>\n",
       "      <th>1</th>\n",
       "      <td>2019-03-11 00:00:00+00:00</td>\n",
       "      <td>4557</td>\n",
       "    </tr>\n",
       "    <tr>\n",
       "      <th>0</th>\n",
       "      <td>2019-03-12 00:00:00+00:00</td>\n",
       "      <td>5204</td>\n",
       "    </tr>\n",
       "    <tr>\n",
       "      <th>3</th>\n",
       "      <td>2019-03-13 00:00:00+00:00</td>\n",
       "      <td>3468</td>\n",
       "    </tr>\n",
       "  </tbody>\n",
       "</table>\n",
       "</div>"
      ],
      "text/plain": [
       "                        dia  cantidad\n",
       "7 2019-03-05 00:00:00+00:00        31\n",
       "8 2019-03-06 00:00:00+00:00        14\n",
       "5 2019-03-07 00:00:00+00:00      2989\n",
       "6 2019-03-08 00:00:00+00:00      2839\n",
       "4 2019-03-09 00:00:00+00:00      3283\n",
       "2 2019-03-10 00:00:00+00:00      3966\n",
       "1 2019-03-11 00:00:00+00:00      4557\n",
       "0 2019-03-12 00:00:00+00:00      5204\n",
       "3 2019-03-13 00:00:00+00:00      3468"
      ]
     },
     "execution_count": 178,
     "metadata": {},
     "output_type": "execute_result"
    }
   ],
   "source": [
    "df_clicks_por_dia"
   ]
  },
  {
   "cell_type": "code",
   "execution_count": 20,
   "metadata": {},
   "outputs": [],
   "source": [
    "df_auctions.date = pd.to_datetime(df_auctions.date)"
   ]
  },
  {
   "cell_type": "code",
   "execution_count": 180,
   "metadata": {},
   "outputs": [],
   "source": [
    "df_auctions_por_dia = df_auctions.date\\\n",
    "       .dt.floor('d')\\\n",
    "       .value_counts()\\\n",
    "       .rename_axis('dia')\\\n",
    "       .reset_index(name='cantidad')\\\n",
    "       .sort_values(by='dia', ascending=True)"
   ]
  },
  {
   "cell_type": "code",
   "execution_count": 181,
   "metadata": {},
   "outputs": [
    {
     "data": {
      "text/html": [
       "<div>\n",
       "<style scoped>\n",
       "    .dataframe tbody tr th:only-of-type {\n",
       "        vertical-align: middle;\n",
       "    }\n",
       "\n",
       "    .dataframe tbody tr th {\n",
       "        vertical-align: top;\n",
       "    }\n",
       "\n",
       "    .dataframe thead th {\n",
       "        text-align: right;\n",
       "    }\n",
       "</style>\n",
       "<table border=\"1\" class=\"dataframe\">\n",
       "  <thead>\n",
       "    <tr style=\"text-align: right;\">\n",
       "      <th></th>\n",
       "      <th>dia</th>\n",
       "      <th>cantidad</th>\n",
       "    </tr>\n",
       "  </thead>\n",
       "  <tbody>\n",
       "    <tr>\n",
       "      <th>7</th>\n",
       "      <td>2019-03-05</td>\n",
       "      <td>1182401</td>\n",
       "    </tr>\n",
       "    <tr>\n",
       "      <th>8</th>\n",
       "      <td>2019-03-06</td>\n",
       "      <td>1032970</td>\n",
       "    </tr>\n",
       "    <tr>\n",
       "      <th>6</th>\n",
       "      <td>2019-03-07</td>\n",
       "      <td>2047661</td>\n",
       "    </tr>\n",
       "    <tr>\n",
       "      <th>4</th>\n",
       "      <td>2019-03-08</td>\n",
       "      <td>2303002</td>\n",
       "    </tr>\n",
       "    <tr>\n",
       "      <th>5</th>\n",
       "      <td>2019-03-09</td>\n",
       "      <td>2074552</td>\n",
       "    </tr>\n",
       "    <tr>\n",
       "      <th>2</th>\n",
       "      <td>2019-03-10</td>\n",
       "      <td>2637534</td>\n",
       "    </tr>\n",
       "    <tr>\n",
       "      <th>3</th>\n",
       "      <td>2019-03-11</td>\n",
       "      <td>2574916</td>\n",
       "    </tr>\n",
       "    <tr>\n",
       "      <th>1</th>\n",
       "      <td>2019-03-12</td>\n",
       "      <td>2779910</td>\n",
       "    </tr>\n",
       "    <tr>\n",
       "      <th>0</th>\n",
       "      <td>2019-03-13</td>\n",
       "      <td>2938373</td>\n",
       "    </tr>\n",
       "  </tbody>\n",
       "</table>\n",
       "</div>"
      ],
      "text/plain": [
       "         dia  cantidad\n",
       "7 2019-03-05   1182401\n",
       "8 2019-03-06   1032970\n",
       "6 2019-03-07   2047661\n",
       "4 2019-03-08   2303002\n",
       "5 2019-03-09   2074552\n",
       "2 2019-03-10   2637534\n",
       "3 2019-03-11   2574916\n",
       "1 2019-03-12   2779910\n",
       "0 2019-03-13   2938373"
      ]
     },
     "execution_count": 181,
     "metadata": {},
     "output_type": "execute_result"
    }
   ],
   "source": [
    "df_auctions_por_dia"
   ]
  },
  {
   "cell_type": "code",
   "execution_count": 194,
   "metadata": {},
   "outputs": [
    {
     "data": {
      "image/png": "[encoded data removed]",
      "text/plain": [
       "<Figure size 432x288 with 1 Axes>"
      ]
     },
     "metadata": {
      "needs_background": "light"
     },
     "output_type": "display_data"
    }
   ],
   "source": [
    "n_groups = 9\n",
    "eventos = df_eventos_por_dia.cantidad\n",
    "clicks = df_clicks_por_dia.cantidad\n",
    "instalaciones = df_installs_por_dia.cantidad\n",
    "subastas = df_auctions_por_dia.cantidad\n",
    " \n",
    "# create plot\n",
    "fig, ax = plt.subplots()\n",
    "index = np.arange(n_groups)\n",
    "bar_width = 0.35\n",
    "opacity = 0.8\n",
    " \n",
    "rects1 = plt.bar(index, instalaciones, bar_width,\n",
    "alpha=opacity,\n",
    "color='b',\n",
    "label='Instalaciones')\n",
    " \n",
    "rects2 = plt.bar(index + bar_width, clicks, bar_width,\n",
    "alpha=opacity,\n",
    "color='g',\n",
    "label='Clicks')\n",
    " \n",
    "plt.xlabel('Dia')\n",
    "plt.ylabel('Cantidad')\n",
    "plt.title('Instalaciones por clicks')\n",
    "plt.xticks(index + bar_width, df_installs_por_dia.dia.dt.date,rotation=90)\n",
    "plt.legend()\n",
    " \n",
    "plt.tight_layout()\n",
    "plt.show()"
   ]
  },
  {
   "cell_type": "code",
   "execution_count": 9,
   "metadata": {},
   "outputs": [
    {
     "data": {
      "text/plain": [
       "False    2451949\n",
       "True       42474\n",
       "Name: ref_hash, dtype: int64"
      ]
     },
     "execution_count": 9,
     "metadata": {},
     "output_type": "execute_result"
    }
   ],
   "source": [
    "#Eventos que son instalaciones 42474 (1,7%)\n",
    "\n",
    "df_events[\"ref_hash\"].isin(df_installs[\"ref_hash\"]).value_counts()"
   ]
  },
  {
   "cell_type": "code",
   "execution_count": 11,
   "metadata": {},
   "outputs": [
    {
     "data": {
      "text/plain": [
       "False    1447297\n",
       "True     1047126\n",
       "Name: ref_hash, dtype: int64"
      ]
     },
     "execution_count": 11,
     "metadata": {},
     "output_type": "execute_result"
    }
   ],
   "source": [
    "#Eventos que son subastas 1047126 (41,9%)\n",
    "\n",
    "df_events[\"ref_hash\"].isin(df_auctions[\"device_id\"]).value_counts()"
   ]
  },
  {
   "cell_type": "code",
   "execution_count": 15,
   "metadata": {},
   "outputs": [
    {
     "data": {
      "text/plain": [
       "False    14268927\n",
       "True      5302392\n",
       "Name: device_id, dtype: int64"
      ]
     },
     "execution_count": 15,
     "metadata": {},
     "output_type": "execute_result"
    }
   ],
   "source": [
    "#Subastas que terminan en clicks 5302392 (27,1%)\n",
    "\n",
    "df_auctions[\"device_id\"].isin(df_clicks[\"ref_hash\"]).value_counts()"
   ]
  },
  {
   "cell_type": "code",
   "execution_count": 16,
   "metadata": {},
   "outputs": [
    {
     "data": {
      "text/plain": [
       "False    19511903\n",
       "True        59416\n",
       "Name: device_id, dtype: int64"
      ]
     },
     "execution_count": 16,
     "metadata": {},
     "output_type": "execute_result"
    }
   ],
   "source": [
    "#Subastas que terminan en instalaciones 59416 (0,3%)\n",
    "\n",
    "df_auctions[\"device_id\"].isin(df_installs[\"ref_hash\"]).value_counts()"
   ]
  },
  {
   "cell_type": "code",
   "execution_count": 18,
   "metadata": {},
   "outputs": [
    {
     "data": {
      "text/plain": [
       "False    26340\n",
       "True        11\n",
       "Name: ref_hash, dtype: int64"
      ]
     },
     "execution_count": 18,
     "metadata": {},
     "output_type": "execute_result"
    }
   ],
   "source": [
    "#Clicks que terminan en instalaciones 11 (0,04%)\n",
    "\n",
    "df_clicks[\"ref_hash\"].isin(df_installs[\"ref_hash\"]).value_counts()"
   ]
  },
  {
   "cell_type": "code",
   "execution_count": 21,
   "metadata": {},
   "outputs": [
    {
     "name": "stderr",
     "output_type": "stream",
     "text": [
      "/Library/Frameworks/Python.framework/Versions/3.7/lib/python3.7/site-packages/ipykernel_launcher.py:2: SettingWithCopyWarning: \n",
      "A value is trying to be set on a copy of a slice from a DataFrame.\n",
      "Try using .loc[row_indexer,col_indexer] = value instead\n",
      "\n",
      "See the caveats in the documentation: http://pandas.pydata.org/pandas-docs/stable/indexing.html#indexing-view-versus-copy\n",
      "  \n"
     ]
    }
   ],
   "source": [
    "auctions_to_installs= df_auctions[df_auctions.device_id.isin(df_installs[\"ref_hash\"])]\n",
    "auctions_to_installs['datePart'] = auctions_to_installs.date.dt.floor('d')\n",
    "auctions_to_installs_per_day = auctions_to_installs.datePart.value_counts().rename_axis('dia')\\\n",
    "       .reset_index(name='cantidad')\\\n",
    "       .sort_values(by='dia', ascending=True)"
   ]
  },
  {
   "cell_type": "code",
   "execution_count": 192,
   "metadata": {},
   "outputs": [
    {
     "data": {
      "image/png": "[encoded data removed]",
      "text/plain": [
       "<Figure size 432x288 with 1 Axes>"
      ]
     },
     "metadata": {
      "needs_background": "light"
     },
     "output_type": "display_data"
    }
   ],
   "source": [
    "plt.bar(np.arange(len(auctions_to_installs_per_day)), auctions_to_installs_per_day.cantidad, align='center', alpha=0.5)\n",
    "plt.xticks(np.arange(len(auctions_to_installs_per_day)), auctions_to_installs_per_day.dia.dt.date,rotation=90)\n",
    "plt.ylabel('Subastas que terminan en instalaciones')\n",
    "plt.title('Subastas que terminan en instalaciones por dia')\n",
    " \n",
    "plt.show()"
   ]
  },
  {
   "cell_type": "code",
   "execution_count": 188,
   "metadata": {},
   "outputs": [
    {
     "name": "stderr",
     "output_type": "stream",
     "text": [
      "/Library/Frameworks/Python.framework/Versions/3.7/lib/python3.7/site-packages/ipykernel_launcher.py:2: SettingWithCopyWarning: \n",
      "A value is trying to be set on a copy of a slice from a DataFrame.\n",
      "Try using .loc[row_indexer,col_indexer] = value instead\n",
      "\n",
      "See the caveats in the documentation: http://pandas.pydata.org/pandas-docs/stable/indexing.html#indexing-view-versus-copy\n",
      "  \n"
     ]
    }
   ],
   "source": [
    "auctions_to_clicks = df_auctions[df_auctions.device_id.isin(df_clicks[\"ref_hash\"])]\n",
    "auctions_to_clicks['datePart'] = auctions_to_clicks.date.dt.floor('d')\n",
    "auctions_to_clicks_per_day = auctions_to_clicks.datePart.value_counts().rename_axis('dia')\\\n",
    "       .reset_index(name='cantidad')\\\n",
    "       .sort_values(by='dia', ascending=True)"
   ]
  },
  {
   "cell_type": "code",
   "execution_count": 193,
   "metadata": {},
   "outputs": [
    {
     "data": {
      "image/png": "[encoded data removed]",
      "text/plain": [
       "<Figure size 432x288 with 1 Axes>"
      ]
     },
     "metadata": {
      "needs_background": "light"
     },
     "output_type": "display_data"
    }
   ],
   "source": [
    "plt.bar(np.arange(len(auctions_to_clicks_per_day)), auctions_to_clicks_per_day.cantidad, align='center', alpha=0.5)\n",
    "plt.xticks(np.arange(len(auctions_to_clicks_per_day)), auctions_to_clicks_per_day.dia.dt.date,rotation=90)\n",
    "plt.ylabel('Subastas que terminan en clicks')\n",
    "plt.title('Subastas que terminan en clicks por dia')\n",
    " \n",
    "plt.show()"
   ]
  },
  {
   "cell_type": "code",
   "execution_count": 191,
   "metadata": {},
   "outputs": [
    {
     "data": {
      "image/png": "[encoded data removed]",
      "text/plain": [
       "<Figure size 432x288 with 1 Axes>"
      ]
     },
     "metadata": {
      "needs_background": "light"
     },
     "output_type": "display_data"
    }
   ],
   "source": [
    "n_groups = 9\n",
    "clicks = auctions_to_clicks_per_day.cantidad\n",
    "instalaciones = auctions_to_installs_per_day.cantidad\n",
    " \n",
    "# create plot\n",
    "fig, ax = plt.subplots()\n",
    "index = np.arange(n_groups)\n",
    "bar_width = 0.35\n",
    "opacity = 0.8\n",
    " \n",
    "rects1 = plt.bar(index, instalaciones, bar_width,\n",
    "alpha=opacity,\n",
    "color='b',\n",
    "label='Instalaciones')\n",
    " \n",
    "rects2 = plt.bar(index + bar_width, clicks, bar_width,\n",
    "alpha=opacity,\n",
    "color='g',\n",
    "label='Clicks')\n",
    " \n",
    "plt.xlabel('Dia')\n",
    "plt.ylabel('Cantidad')\n",
    "plt.title('Subastas que terminan en instalaciones/cliks por dia')\n",
    "plt.xticks(index + bar_width, auctions_to_installs_per_day.dia.dt.date,rotation=90)\n",
    "plt.legend()\n",
    " \n",
    "plt.tight_layout()\n",
    "plt.show()"
   ]
  },
  {
   "cell_type": "code",
   "execution_count": 9,
   "metadata": {},
   "outputs": [
    {
     "data": {
      "text/plain": [
       "True     1377\n",
       "False     352\n",
       "Name: wifi, dtype: int64"
      ]
     },
     "execution_count": 9,
     "metadata": {},
     "output_type": "execute_result"
    }
   ],
   "source": [
    "df_installs.wifi.value_counts()"
   ]
  },
  {
   "cell_type": "code",
   "execution_count": 25,
   "metadata": {},
   "outputs": [
    {
     "data": {
      "image/png": "[encoded data removed]",
      "text/plain": [
       "<Figure size 432x432 with 1 Axes>"
      ]
     },
     "metadata": {},
     "output_type": "display_data"
    }
   ],
   "source": [
    "#preguntar si 1 seria ios o android.\n",
    "sizes = auctions_to_installs.platform.value_counts()\n",
    "nombres = ['2', '1']\n",
    "\n",
    "plt.figure(figsize=(6, 6))\n",
    "plt.title('Plataformas usadas en instalaciones', fontsize=20)\n",
    "plt.pie(sizes, labels=nombres, autopct='%1.1f%%', startangle=20, colors=['pink', 'grey'], explode=(0.1, 0))\n",
    "plt.show()"
   ]
  },
  {
   "cell_type": "code",
   "execution_count": 62,
   "metadata": {},
   "outputs": [],
   "source": [
    "clicks_by_client = df_clicks.advertiser_id.value_counts().rename_axis('cliente')\\\n",
    "       .reset_index(name='cantidad')\\\n",
    "       .sort_values(by=\"cliente\", ascending=True)"
   ]
  },
  {
   "cell_type": "code",
   "execution_count": 63,
   "metadata": {},
   "outputs": [
    {
     "data": {
      "text/html": [
       "<div>\n",
       "<style scoped>\n",
       "    .dataframe tbody tr th:only-of-type {\n",
       "        vertical-align: middle;\n",
       "    }\n",
       "\n",
       "    .dataframe tbody tr th {\n",
       "        vertical-align: top;\n",
       "    }\n",
       "\n",
       "    .dataframe thead th {\n",
       "        text-align: right;\n",
       "    }\n",
       "</style>\n",
       "<table border=\"1\" class=\"dataframe\">\n",
       "  <thead>\n",
       "    <tr style=\"text-align: right;\">\n",
       "      <th></th>\n",
       "      <th>cliente</th>\n",
       "      <th>cantidad</th>\n",
       "    </tr>\n",
       "  </thead>\n",
       "  <tbody>\n",
       "    <tr>\n",
       "      <th>1</th>\n",
       "      <td>0</td>\n",
       "      <td>70</td>\n",
       "    </tr>\n",
       "    <tr>\n",
       "      <th>4</th>\n",
       "      <td>1</td>\n",
       "      <td>2</td>\n",
       "    </tr>\n",
       "    <tr>\n",
       "      <th>2</th>\n",
       "      <td>2</td>\n",
       "      <td>12</td>\n",
       "    </tr>\n",
       "    <tr>\n",
       "      <th>0</th>\n",
       "      <td>3</td>\n",
       "      <td>26263</td>\n",
       "    </tr>\n",
       "    <tr>\n",
       "      <th>6</th>\n",
       "      <td>5</td>\n",
       "      <td>1</td>\n",
       "    </tr>\n",
       "    <tr>\n",
       "      <th>3</th>\n",
       "      <td>7</td>\n",
       "      <td>2</td>\n",
       "    </tr>\n",
       "    <tr>\n",
       "      <th>5</th>\n",
       "      <td>8</td>\n",
       "      <td>1</td>\n",
       "    </tr>\n",
       "  </tbody>\n",
       "</table>\n",
       "</div>"
      ],
      "text/plain": [
       "   cliente  cantidad\n",
       "1        0        70\n",
       "4        1         2\n",
       "2        2        12\n",
       "0        3     26263\n",
       "6        5         1\n",
       "3        7         2\n",
       "5        8         1"
      ]
     },
     "execution_count": 63,
     "metadata": {},
     "output_type": "execute_result"
    }
   ],
   "source": [
    "clicks_by_client"
   ]
  },
  {
   "cell_type": "code",
   "execution_count": 71,
   "metadata": {},
   "outputs": [
    {
     "data": {
      "image/png": "[encoded data removed]",
      "text/plain": [
       "<Figure size 432x288 with 1 Axes>"
      ]
     },
     "metadata": {
      "needs_background": "light"
     },
     "output_type": "display_data"
    }
   ],
   "source": [
    "plt.bar(np.arange(len(clicks_by_client)), clicks_by_client.cantidad, align='center', alpha=0.5)\n",
    "plt.xticks(np.arange(len(clicks_by_client)), clicks_by_client.cliente)\n",
    "plt.ylabel('Clicks')\n",
    "plt.xlabel('Cliente')\n",
    "plt.title('Clicks por Clientes Jampp')\n",
    " \n",
    "plt.show()\n"
   ]
  },
  {
   "cell_type": "code",
   "execution_count": 30,
   "metadata": {},
   "outputs": [],
   "source": [
    "clicks_to_installs = df_clicks[df_clicks.ref_hash.isin(df_installs[\"ref_hash\"])]"
   ]
  },
  {
   "cell_type": "code",
   "execution_count": 53,
   "metadata": {},
   "outputs": [],
   "source": [
    "clicks_to_installs = clicks_to_installs.advertiser_id.value_counts().rename_axis('cliente')\\\n",
    "       .reset_index(name='cantidad')"
   ]
  },
  {
   "cell_type": "code",
   "execution_count": 55,
   "metadata": {},
   "outputs": [
    {
     "data": {
      "text/html": [
       "<div>\n",
       "<style scoped>\n",
       "    .dataframe tbody tr th:only-of-type {\n",
       "        vertical-align: middle;\n",
       "    }\n",
       "\n",
       "    .dataframe tbody tr th {\n",
       "        vertical-align: top;\n",
       "    }\n",
       "\n",
       "    .dataframe thead th {\n",
       "        text-align: right;\n",
       "    }\n",
       "</style>\n",
       "<table border=\"1\" class=\"dataframe\">\n",
       "  <thead>\n",
       "    <tr style=\"text-align: right;\">\n",
       "      <th></th>\n",
       "      <th>cliente</th>\n",
       "      <th>cantidad</th>\n",
       "    </tr>\n",
       "  </thead>\n",
       "  <tbody>\n",
       "    <tr>\n",
       "      <th>0</th>\n",
       "      <td>3</td>\n",
       "      <td>11</td>\n",
       "    </tr>\n",
       "  </tbody>\n",
       "</table>\n",
       "</div>"
      ],
      "text/plain": [
       "   cliente  cantidad\n",
       "0        3        11"
      ]
     },
     "execution_count": 55,
     "metadata": {},
     "output_type": "execute_result"
    }
   ],
   "source": [
    "clicks_to_installs"
   ]
  },
  {
   "cell_type": "code",
   "execution_count": 60,
   "metadata": {},
   "outputs": [
    {
     "data": {
      "image/png": "[encoded data removed]",
      "text/plain": [
       "<Figure size 432x288 with 1 Axes>"
      ]
     },
     "metadata": {
      "needs_background": "light"
     },
     "output_type": "display_data"
    }
   ],
   "source": [
    "#VER DE MODIFICAR ESCALA PARA QUE SE NOTE MAS LAS INSTALACIONES\n",
    "n_groups = 7\n",
    "clicks = clicks_by_client.cantidad\n",
    "instalaciones = clicks_to_installs.cantidad\n",
    " \n",
    "# create plot\n",
    "fig, ax = plt.subplots()\n",
    "index = np.arange(n_groups)\n",
    "bar_width = 0.35\n",
    "opacity = 0.8\n",
    " \n",
    "rects1 = plt.bar(index, instalaciones, bar_width,\n",
    "alpha=opacity,\n",
    "color='b',\n",
    "label='Instalaciones')\n",
    " \n",
    "rects2 = plt.bar(index + bar_width, clicks, bar_width,\n",
    "alpha=opacity,\n",
    "color='g',\n",
    "label='Clicks')\n",
    " \n",
    "plt.xlabel('Cliente')\n",
    "plt.ylabel('Cantidad')\n",
    "plt.title('Clicks por Cliente Jampp')\n",
    "plt.xticks(index + bar_width, clicks_by_client.cliente)\n",
    "plt.legend()\n",
    " \n",
    "plt.tight_layout()\n",
    "plt.show()\n",
    "\n",
    "#En conclusion .. el cliente con ID 3 es el que tiene la mayor cantidad de clicks. \n",
    "#Y sólo hay instalaciones de este cliente (a partir de las subastas).\n",
    "# ver si hay otro grafico para mostrar mejor esta diferencia"
   ]
  },
  {
   "cell_type": "code",
   "execution_count": null,
   "metadata": {},
   "outputs": [],
   "source": []
  }
 ],
 "metadata": {
  "kernelspec": {
   "display_name": "Python 3",
   "language": "python",
   "name": "python3"
  },
  "language_info": {
   "codemirror_mode": {
    "name": "ipython",
    "version": 3
   },
   "file_extension": ".py",
   "mimetype": "text/x-python",
   "name": "python",
   "nbconvert_exporter": "python",
   "pygments_lexer": "ipython3",
   "version": "3.7.3"
  }
 },
 "nbformat": 4,
 "nbformat_minor": 2
}
